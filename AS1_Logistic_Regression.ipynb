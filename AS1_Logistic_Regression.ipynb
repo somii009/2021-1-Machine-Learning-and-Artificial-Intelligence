{
  "nbformat": 4,
  "nbformat_minor": 0,
  "metadata": {
    "anaconda-cloud": {},
    "colab": {
      "name": "AS1_Logistic_Regression.ipynb",
      "provenance": [],
      "collapsed_sections": []
    },
    "kernelspec": {
      "display_name": "Python 3",
      "language": "python",
      "name": "python3"
    },
    "language_info": {
      "codemirror_mode": {
        "name": "ipython",
        "version": 3
      },
      "file_extension": ".py",
      "mimetype": "text/x-python",
      "name": "python",
      "nbconvert_exporter": "python",
      "pygments_lexer": "ipython3",
      "version": "3.5.2"
    }
  },
  "cells": [
    {
      "cell_type": "markdown",
      "metadata": {
        "id": "t6j5WcA3GbSk"
      },
      "source": [
        "#Assignment 1: Logistic Regression"
      ]
    },
    {
      "cell_type": "markdown",
      "metadata": {
        "id": "ei9BMeksGbSn"
      },
      "source": [
        "## Dataset load & Plot"
      ]
    },
    {
      "cell_type": "code",
      "metadata": {
        "id": "Vlb19coAGbSo"
      },
      "source": [
        "%matplotlib inline\n",
        "import numpy as np\n",
        "import matplotlib.pyplot as plt\n",
        "from sklearn.linear_model import LogisticRegression\n",
        "from warnings import filterwarnings\n",
        "filterwarnings('ignore')"
      ],
      "execution_count": 1,
      "outputs": []
    },
    {
      "cell_type": "code",
      "metadata": {
        "id": "xV9Z9RPMGbSt",
        "scrolled": true,
        "colab": {
          "base_uri": "https://localhost:8080/",
          "height": 265
        },
        "outputId": "0ce19b50-fe60-4b86-ba33-958d3c0a5a99"
      },
      "source": [
        "data = np.loadtxt('data.csv', delimiter=',')\n",
        "X = data[:, :2]\n",
        "y = data[:, 2]\n",
        "label_mask = np.equal(y, 1)\n",
        "\n",
        "plt.scatter(X[:, 0][label_mask], X[:, 1][label_mask], color='red')\n",
        "plt.scatter(X[:, 0][~label_mask], X[:, 1][~label_mask], color='blue')\n",
        "plt.show()"
      ],
      "execution_count": 2,
      "outputs": [
        {
          "output_type": "display_data",
          "data": {
            "image/png": "[encoded data removed]",
            "text/plain": [
              "<Figure size 432x288 with 1 Axes>"
            ]
          },
          "metadata": {
            "tags": [],
            "needs_background": "light"
          }
        }
      ]
    },
    {
      "cell_type": "markdown",
      "metadata": {
        "id": "kwcWe3pDGbSy"
      },
      "source": [
        "# Problem 1-1. Logistic regression model using sklearn packages.\n",
        "\n",
        "Train your data using LogisticRegression classes from skikit-learn library.\n"
      ]
    },
    {
      "cell_type": "code",
      "metadata": {
        "id": "ONWQ_Q5yGbS0"
      },
      "source": [
        "def learn_and_return_weights(X, y):\n",
        "    from sklearn.linear_model import LogisticRegression\n",
        "    # YOUR CODE COMES HERE\n",
        "    # w: coefficient of the model to input features,\n",
        "    # b: bias of the model\n",
        "    model = LogisticRegression()\n",
        "    model.fit(X, y)\n",
        "    w = model.coef_\n",
        "    b= model.intercept_\n",
        "    w = w.reshape(2,1)\n",
        "\n",
        "    return w, b\n"
      ],
      "execution_count": 103,
      "outputs": []
    },
    {
      "cell_type": "code",
      "metadata": {
        "id": "HkQB55lkGbS3",
        "colab": {
          "base_uri": "https://localhost:8080/",
          "height": 265
        },
        "outputId": "4f5ed37c-ed01-447f-e4ac-7594c06cf558"
      },
      "source": [
        "def plot_data_and_weights(X, y, w, b):\n",
        "    plt.scatter(X[:, 0][label_mask], X[:, 1][label_mask], color='red')\n",
        "    plt.scatter(X[:, 0][~label_mask], X[:, 1][~label_mask], color='blue')\n",
        "\n",
        "    x_lin = np.arange(20, 70)\n",
        "    y_lin = -(0.5 + b + w[0] * x_lin) / w[1]\n",
        "\n",
        "    plt.plot(x_lin, y_lin, color='black');\n",
        "    plt.show()\n",
        "\n",
        "w, b = learn_and_return_weights(X, y)\n",
        "plot_data_and_weights(X, y, w, b)"
      ],
      "execution_count": 104,
      "outputs": [
        {
          "output_type": "display_data",
          "data": {
            "image/png": "[encoded data removed]",
            "text/plain": [
              "<Figure size 432x288 with 1 Axes>"
            ]
          },
          "metadata": {
            "tags": [],
            "needs_background": "light"
          }
        }
      ]
    },
    {
      "cell_type": "markdown",
      "metadata": {
        "id": "jKYz83ecGbS6"
      },
      "source": [
        "## Problem 1-2. Implement Logistic Regression Model\n",
        "\n",
        "Implement Logistic Regression without using scikit-learn libraries.\n"
      ]
    },
    {
      "cell_type": "code",
      "metadata": {
        "id": "eGTRLxvsGbS7"
      },
      "source": [
        "def sigmoid(z):\n",
        "    # YOUR CODE COMES HERE\n",
        "     return 1 / (1+np.exp(-z))\n",
        "\n",
        "def binary_cross_entropy_loss(y_pred, target):\n",
        "    # YOUR CODE COMES HERE\n",
        "    return np.sum(-(1/target.shape[0]) * (target * np.log(y_pred) + (1 - target) * np.log(1 - y_pred)))\n",
        "\n",
        "def activation(z):\n",
        "  z = -z\n",
        "  if z > np.log(np.finfo(z.dtype).max):\n",
        "    return 0.0\n",
        "  else:\n",
        "    return 1 / (1 + np.exp(z))\n",
        "\n",
        "def learn_and_return_weights_numpy(X, Y, lr=.01, iter=100000):\n",
        "    # YOUR CODE COMES HERE\n",
        "    # w: coefficient of the model to input features,\n",
        "    # b: bias of the model\n",
        "    w = np.ones(X.shape[1])\n",
        "    b= 0\n",
        "\n",
        "    for i in range(iter):\n",
        "      for x_i, y_i in zip(X, Y):\n",
        "        z= np.sum(x_i * w) + b\n",
        "        a= activation(z)\n",
        "        err = -(y_i - a)\n",
        "        w_grad = x_i * err\n",
        "        b_grad = 1 * err\n",
        "        w -= w_grad\n",
        "        b -= b_grad\n",
        "\n",
        "    return w, b"
      ],
      "execution_count": 119,
      "outputs": []
    },
    {
      "cell_type": "code",
      "metadata": {
        "id": "ryO_ItqRGbS_",
        "colab": {
          "base_uri": "https://localhost:8080/",
          "height": 265
        },
        "outputId": "04d2801e-610f-4cc4-e68d-6f87a1f3a84b"
      },
      "source": [
        "w, b = learn_and_return_weights_numpy(X, y)\n",
        "plot_data_and_weights(X, y, w, b)"
      ],
      "execution_count": 120,
      "outputs": [
        {
          "output_type": "display_data",
          "data": {
            "image/png": "[encoded data removed]",
            "text/plain": [
              "<Figure size 432x288 with 1 Axes>"
            ]
          },
          "metadata": {
            "tags": [],
            "needs_background": "light"
          }
        }
      ]
    }
  ]
}
